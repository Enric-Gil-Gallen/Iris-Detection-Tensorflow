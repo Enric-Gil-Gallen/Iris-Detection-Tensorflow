{
 "cells": [
  {
   "cell_type": "markdown",
   "metadata": {},
   "source": [
    "# 0 - Imports"
   ]
  },
  {
   "cell_type": "code",
   "execution_count": null,
   "metadata": {},
   "outputs": [],
   "source": [
    "# !pip install labelme tensorflow tensorflow-gpu opencv-python matplotlib albumentations"
   ]
  },
  {
   "cell_type": "code",
   "execution_count": null,
   "metadata": {},
   "outputs": [],
   "source": [
    "# os: Proporciona funciones para interactuar con el sistema operativo, como manejar rutas de archivos y directorios.\n",
    "import os\n",
    "\n",
    "# time: Permite acceder a funciones que manejan el tiempo, como pausas (sleep) o tomar el tiempo actual.\n",
    "import time\n",
    "\n",
    "# uuid: Usado para generar identificadores únicos universales (UUIDs), que son útiles para nombres de archivos únicos, por ejemplo.\n",
    "import uuid\n",
    "\n",
    "# cv2: OpenCV para operaciones relacionadas con visión por computadora, como procesamiento de imágenes y video.\n",
    "import cv2\n"
   ]
  }
 ],
 "metadata": {
  "language_info": {
   "name": "python"
  }
 },
 "nbformat": 4,
 "nbformat_minor": 2
}

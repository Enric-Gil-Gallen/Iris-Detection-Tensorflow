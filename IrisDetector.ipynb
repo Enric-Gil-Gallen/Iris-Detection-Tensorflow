{
 "cells": [
  {
   "cell_type": "markdown",
   "metadata": {},
   "source": [
    "# 0 - Imports"
   ]
  },
  {
   "cell_type": "code",
   "execution_count": null,
   "metadata": {},
   "outputs": [],
   "source": [
    "# !pip install tensorflow tensorflow-gpu opencv-python matplotlib "
   ]
  },
  {
   "cell_type": "code",
   "execution_count": null,
   "metadata": {},
   "outputs": [],
   "source": [
    "# os: Interactúa con el sistema operativo.\n",
    "import os\n",
    "\n",
    "# cv2: Funcionalidad de visión por computadora de OpenCV.\n",
    "import cv2\n",
    "\n",
    "# tensorflow: Biblioteca para aprendizaje automático y redes neuronales.\n",
    "import tensorflow as tf\n",
    "\n",
    "# json: Maneja datos en formato JSON.\n",
    "import json\n",
    "\n",
    "# numpy: Biblioteca para cálculos numéricos con soporte para arrays de gran tamaño.\n",
    "import numpy as np\n",
    "\n",
    "# pyplot de matplotlib: Herramientas para crear gráficos y visualizaciones.\n",
    "from matplotlib import pyplot as plt\n"
   ]
  }
 ],
 "metadata": {
  "language_info": {
   "name": "python"
  }
 },
 "nbformat": 4,
 "nbformat_minor": 2
}

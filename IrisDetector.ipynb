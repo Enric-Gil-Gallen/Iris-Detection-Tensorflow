{
 "cells": [
  {
   "cell_type": "markdown",
   "metadata": {},
   "source": [
    "# 0 - Imports"
   ]
  },
  {
   "cell_type": "code",
   "execution_count": null,
   "metadata": {},
   "outputs": [],
   "source": [
    "# !pip install tensorflow tensorflow-gpu opencv-python matplotlib "
   ]
  },
  {
   "cell_type": "code",
   "execution_count": 3,
   "metadata": {},
   "outputs": [
    {
     "ename": "ModuleNotFoundError",
     "evalue": "No module named 'cv2'",
     "output_type": "error",
     "traceback": [
      "\u001b[1;31m---------------------------------------------------------------------------\u001b[0m",
      "\u001b[1;31mModuleNotFoundError\u001b[0m                       Traceback (most recent call last)",
      "\u001b[1;32mc:\\Users\\enric\\Documents\\1 - Inteligencia Artificial\\Proyectos\\Iris-Detection-Tensorflow\\IrisDetector.ipynb Celda 3\u001b[0m line \u001b[0;36m5\n\u001b[0;32m      <a href='vscode-notebook-cell:/c%3A/Users/enric/Documents/1%20-%20Inteligencia%20Artificial/Proyectos/Iris-Detection-Tensorflow/IrisDetector.ipynb#W1sZmlsZQ%3D%3D?line=1'>2</a>\u001b[0m \u001b[39mimport\u001b[39;00m \u001b[39mos\u001b[39;00m\n\u001b[0;32m      <a href='vscode-notebook-cell:/c%3A/Users/enric/Documents/1%20-%20Inteligencia%20Artificial/Proyectos/Iris-Detection-Tensorflow/IrisDetector.ipynb#W1sZmlsZQ%3D%3D?line=3'>4</a>\u001b[0m \u001b[39m# cv2: Funcionalidad de visión por computadora de OpenCV.\u001b[39;00m\n\u001b[1;32m----> <a href='vscode-notebook-cell:/c%3A/Users/enric/Documents/1%20-%20Inteligencia%20Artificial/Proyectos/Iris-Detection-Tensorflow/IrisDetector.ipynb#W1sZmlsZQ%3D%3D?line=4'>5</a>\u001b[0m \u001b[39mimport\u001b[39;00m \u001b[39mcv2\u001b[39;00m\n\u001b[0;32m      <a href='vscode-notebook-cell:/c%3A/Users/enric/Documents/1%20-%20Inteligencia%20Artificial/Proyectos/Iris-Detection-Tensorflow/IrisDetector.ipynb#W1sZmlsZQ%3D%3D?line=6'>7</a>\u001b[0m \u001b[39m# tensorflow: Biblioteca para aprendizaje automático y redes neuronales.\u001b[39;00m\n\u001b[0;32m      <a href='vscode-notebook-cell:/c%3A/Users/enric/Documents/1%20-%20Inteligencia%20Artificial/Proyectos/Iris-Detection-Tensorflow/IrisDetector.ipynb#W1sZmlsZQ%3D%3D?line=7'>8</a>\u001b[0m \u001b[39mimport\u001b[39;00m \u001b[39mtensorflow\u001b[39;00m \u001b[39mas\u001b[39;00m \u001b[39mtf\u001b[39;00m\n",
      "\u001b[1;31mModuleNotFoundError\u001b[0m: No module named 'cv2'"
     ]
    }
   ],
   "source": [
    "# os: Interactúa con el sistema operativo.\n",
    "import os\n",
    "\n",
    "# cv2: Funcionalidad de visión por computadora de OpenCV.\n",
    "import cv2\n",
    "\n",
    "# tensorflow: Biblioteca para aprendizaje automático y redes neuronales.\n",
    "import tensorflow as tf\n",
    "\n",
    "# json: Maneja datos en formato JSON.\n",
    "import json\n",
    "\n",
    "# numpy: Biblioteca para cálculos numéricos con soporte para arrays de gran tamaño.\n",
    "import numpy as np\n",
    "\n",
    "# pyplot de matplotlib: Herramientas para crear gráficos y visualizaciones.\n",
    "from matplotlib import pyplot as plt\n"
   ]
  },
  {
   "cell_type": "code",
   "execution_count": null,
   "metadata": {},
   "outputs": [],
   "source": [
    "# Avoid OOM errors by setting GPU Memory Consumption Growth\n",
    "gpus = tf.config.experimental.list_physical_devices('GPU')\n",
    "for gpu in gpus: \n",
    "    tf.config.experimental.set_memory_growth(gpu, True)"
   ]
  }
 ],
 "metadata": {
  "kernelspec": {
   "display_name": "iris_detector",
   "language": "python",
   "name": "python3"
  },
  "language_info": {
   "codemirror_mode": {
    "name": "ipython",
    "version": 3
   },
   "file_extension": ".py",
   "mimetype": "text/x-python",
   "name": "python",
   "nbconvert_exporter": "python",
   "pygments_lexer": "ipython3",
   "version": "3.8.18"
  }
 },
 "nbformat": 4,
 "nbformat_minor": 2
}
